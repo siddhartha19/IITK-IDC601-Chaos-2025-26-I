{
 "cells": [
  {
   "cell_type": "code",
   "execution_count": null,
   "id": "ef42d19e-183d-4ac8-aaf6-38fc944bda44",
   "metadata": {},
   "outputs": [],
   "source": [
    "import numpy as np\n",
    "import matplotlib.pyplot as plt\n",
    "\n",
    "##-- Lorenz parameters\n",
    "sigma = 10.0\n",
    "beta = 8.0/3.0\n",
    "rho = 28.0\n",
    "\n",
    "def f(x):\n",
    "    X, Y, Z = x\n",
    "    return np.array([\n",
    "        sigma * (Y - X),\n",
    "        X * (rho - Z) - Y,\n",
    "        X * Y - beta * Z\n",
    "    ])\n",
    "\n",
    "##-- Change to RK4\n",
    "def rk2_step(x, dt):\n",
    "    k1 = f(x)\n",
    "    k2 = f(x + 0.5 * dt * k1)\n",
    "    return x + dt * k2\n",
    "\n",
    "##-- Integrate\n",
    "x0 = np.array([5.0, 5.0, 5.0])\n",
    "dt = 0.01\n",
    "T = 200.0\n",
    "nsteps = int(T / dt)\n",
    "\n",
    "traj = np.zeros((nsteps+1, 3))\n",
    "traj[0] = x0\n",
    "\n",
    "for n in range(nsteps):\n",
    "    traj[n+1] = rk2_step(traj[n], dt)"
   ]
  },
  {
   "cell_type": "code",
   "execution_count": null,
   "id": "8a312e4c-b676-48b6-b4a4-0a5cf51a4ba9",
   "metadata": {},
   "outputs": [],
   "source": [
    "##-- Plot\n",
    "fig = plt.figure(figsize=(7,5))\n",
    "ax = fig.add_subplot(111, projection='3d')\n",
    "ax.plot(traj[:,0], traj[:,1], traj[:,2], lw=1, color='b')\n",
    "ax.set_xlabel(\"X\")\n",
    "ax.set_ylabel(\"Y\")\n",
    "ax.set_zlabel(\"Z\")\n",
    "plt.tight_layout()\n",
    "plt.show()\n"
   ]
  },
  {
   "cell_type": "code",
   "execution_count": null,
   "id": "69914830-4d69-487e-a389-f17ee8f113c4",
   "metadata": {},
   "outputs": [],
   "source": [
    "# ##-- Autocorrelation\n",
    "# x = traj[:,0]  # your x(t) series\n",
    "\n",
    "# ##-- Normalize\n",
    "# x = x - np.mean(x)\n",
    "# x = x / np.std(x)\n",
    "\n",
    "# ##-- Compute autocorrelation\n",
    "# acf = np.correlate(x, x, mode='full')\n",
    "# acf = acf[acf.size//2:] / np.max(acf)  ##-- Normalize, take positive lags\n",
    "\n",
    "# ##-- Find first zero-crossing\n",
    "# lag_zero = np.where(acf < 0)[0][0]\n",
    "# tau = lag_zero * dt\n",
    "\n",
    "# print(\"Suggested delay  based on first zero-crossing: tau = %.4f, index = %d\" % (tau, lag_zero))\n",
    "\n",
    "# # Plot autocorrelation\n",
    "# plt.figure(figsize=(6,3))\n",
    "# plt.plot(acf)\n",
    "# plt.xlabel(\"Lag index\")\n",
    "# plt.xlim([0,lag_zero])\n",
    "# plt.ylabel(\"Autocorrelation\")\n",
    "# plt.show()\n"
   ]
  },
  {
   "cell_type": "code",
   "execution_count": null,
   "id": "701dd6f0-9650-4d6f-a61d-0cc1a9376350",
   "metadata": {},
   "outputs": [],
   "source": []
  }
 ],
 "metadata": {
  "kernelspec": {
   "display_name": "Python 3 (ipykernel)",
   "language": "python",
   "name": "python3"
  },
  "language_info": {
   "codemirror_mode": {
    "name": "ipython",
    "version": 3
   },
   "file_extension": ".py",
   "mimetype": "text/x-python",
   "name": "python",
   "nbconvert_exporter": "python",
   "pygments_lexer": "ipython3",
   "version": "3.10.12"
  }
 },
 "nbformat": 4,
 "nbformat_minor": 5
}
