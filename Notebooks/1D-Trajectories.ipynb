{
 "cells": [
  {
   "cell_type": "code",
   "execution_count": 2,
   "id": "c2cd78e1-efcf-44c7-9cba-359fb3c1a004",
   "metadata": {},
   "outputs": [],
   "source": [
    "\"\"\" \n",
    "-------------------------------------------------\n",
    "    IDC601 NONLINEAR DYNAMICS AND CHAOS\n",
    "     ONE DIMENSIONAL FLOW CALCULATIONS\n",
    "    \n",
    "Plotting trajectories of a one-dimensional system\n",
    "-------------------------------------------------\n",
    "\"\"\"\n",
    "\n",
    "#-- Some useful header commands and customized mpl settings\n",
    "import numpy as np\n",
    "import math\n",
    "import matplotlib as mpl\n",
    "mpl.use(\"TkAgg\")\n",
    "import matplotlib.pyplot as plt\n",
    "import matplotlib.cm as cm\n",
    "from plotsConfig import *\n",
    "mpl.rcParams[\"font.family\"] = \"serif\"\n",
    "mpl.rcParams[\"mathtext.fontset\"] = \"cm\"\n"
   ]
  },
  {
   "cell_type": "code",
   "execution_count": 36,
   "id": "b9933d49-c3ae-45aa-abc0-e13a3364195e",
   "metadata": {},
   "outputs": [],
   "source": [
    "xmax = 4.0 #-- Range of x values in multiples of pi\n",
    "numpts = 50\n",
    "xrange = np.linspace( -xmax*np.pi, xmax*np.pi, numpts )\n",
    "\n",
    "cmap = plt.get_cmap('viridis')\n",
    "cols = [cmap(i / (numpts - 1)) for i in range(numpts)]  # sample colours from cmap\n",
    "\n",
    "def func( xvals, r ):\n",
    "    #-- Below you can change the function. \n",
    "    return r*np.sin(xvals)\n",
    "\n",
    "r = 2.0\n",
    "\n",
    "#-- Time of integration\n",
    "T = 4\n",
    "dt = 0.01\n",
    "Nt = int(T/dt)\n",
    "\n",
    "traj = []\n",
    "tvals = []\n",
    "traj.append( xrange )\n",
    "tvals.append( 0 )\n",
    "\n",
    "for indx, t in enumerate(range(Nt)):\n",
    "    xold = np.array( traj[indx] )\n",
    "    #-- We are doing a simple Euler integration\n",
    "    #-- x(n+1) = x(n) + dt*function(x(n))\n",
    "    xnew = xold + dt*func( xold, r )\n",
    "    traj.append( xnew )\n",
    "    tvals.append( (indx+1)*dt )\n",
    "\n",
    "traj = np.array(traj)\n",
    "tvals = np.array(tvals)\n",
    "\n",
    "for n in range(numpts):\n",
    "    plt.plot( tvals,  traj[:,n], color=cols[n] )    \n",
    "\n",
    "plt.xlabel(r'$t$', fontsize=22)\n",
    "plt.ylabel(r'$x(t)$', fontsize=22)\n",
    "plt.yticks([i*np.pi for i in np.arange(-xmax, xmax+1, 2)], [r'$%d\\pi$' % i for i in np.arange(-xmax, xmax+1, 2)])\n",
    "plt.tight_layout()\n",
    "plt.show()\n",
    "    \n",
    "    "
   ]
  }
 ],
 "metadata": {
  "kernelspec": {
   "display_name": "Python 3 (ipykernel)",
   "language": "python",
   "name": "python3"
  },
  "language_info": {
   "codemirror_mode": {
    "name": "ipython",
    "version": 3
   },
   "file_extension": ".py",
   "mimetype": "text/x-python",
   "name": "python",
   "nbconvert_exporter": "python",
   "pygments_lexer": "ipython3",
   "version": "3.10.12"
  }
 },
 "nbformat": 4,
 "nbformat_minor": 5
}
