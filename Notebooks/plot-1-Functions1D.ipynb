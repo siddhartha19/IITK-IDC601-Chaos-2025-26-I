{
 "cells": [
  {
   "cell_type": "code",
   "execution_count": null,
   "id": "11ef0220-8c79-4f4d-b81e-171460fd5519",
   "metadata": {},
   "outputs": [],
   "source": [
    "\"\"\" \n",
    "    Header to set some customizations on matplotlib\n",
    "            Siddhartha, IITK, Aug 2025 \n",
    "\"\"\"\n",
    "\n",
    "import numpy as np\n",
    "import math\n",
    "import matplotlib as mpl\n",
    "mpl.use(\"TkAgg\")\n",
    "import matplotlib.pyplot as plt\n",
    "import matplotlib.cm as cm\n",
    "from plotsConfig import *\n",
    "mpl.rcParams[\"font.family\"] = \"serif\"\n",
    "mpl.rcParams[\"mathtext.fontset\"] = \"cm\"\n",
    "\n",
    "xr = 2 #-- Range\n",
    "xval = np.linspace( -xr*np.pi, xr*np.pi, 100 )\n",
    "\n",
    "# cmap = plt.get_cmap('viridis')\n",
    "# nl = len(xval)\n",
    "# cols = [cmap(i / (nl - 1)) for i in range(nl)]  # sample colours from cmap\n"
   ]
  }
 ],
 "metadata": {
  "kernelspec": {
   "display_name": "Python 3 (ipykernel)",
   "language": "python",
   "name": "python3"
  },
  "language_info": {
   "codemirror_mode": {
    "name": "ipython",
    "version": 3
   },
   "file_extension": ".py",
   "mimetype": "text/x-python",
   "name": "python",
   "nbconvert_exporter": "python",
   "pygments_lexer": "ipython3",
   "version": "3.10.12"
  }
 },
 "nbformat": 4,
 "nbformat_minor": 5
}
