{
 "cells": [
  {
   "cell_type": "code",
   "execution_count": null,
   "id": "ae234006-feb2-46b8-9010-f315d9ab7168",
   "metadata": {},
   "outputs": [],
   "source": [
    "import numpy as np\n",
    "import matplotlib.pyplot as plt\n",
    "\n",
    "##-- Define any map\n",
    "def map( r, x ):\n",
    "    return r*x*(1-x) \n",
    "\n",
    "niter = 1000\n",
    "rn = 1000 #- Divisions in r\n",
    "rmin = 3.8\n",
    "rmax = 3.9\n",
    "rvals = np.linspace( rmin, rmax, rn )\n",
    "x0 = 0.5\n",
    "\n",
    "xtemp = np.zeros(1000)\n",
    "xtemp[0] = x0\n",
    "xvals = np.zeros((100,rn))\n",
    "\n",
    "for idr, r in enumerate(rvals):\n",
    "    for i in range(1,niter):\n",
    "        xtemp[i] = map( r, xtemp[i-1] )\n",
    "    xvals[ :,idr ] = xtemp[-100:]\n",
    "\n",
    "#-- Plot\n",
    "for i in range(100):\n",
    "    plt.plot( rvals, xvals[i,:], '.', ms=0.5 )\n",
    "plt.show()\n"
   ]
  },
  {
   "cell_type": "code",
   "execution_count": null,
   "id": "626c3e68-939e-49a6-9877-f5cc2f337672",
   "metadata": {},
   "outputs": [],
   "source": []
  }
 ],
 "metadata": {
  "kernelspec": {
   "display_name": "Python 3 (ipykernel)",
   "language": "python",
   "name": "python3"
  },
  "language_info": {
   "codemirror_mode": {
    "name": "ipython",
    "version": 3
   },
   "file_extension": ".py",
   "mimetype": "text/x-python",
   "name": "python",
   "nbconvert_exporter": "python",
   "pygments_lexer": "ipython3",
   "version": "3.10.12"
  }
 },
 "nbformat": 4,
 "nbformat_minor": 5
}
